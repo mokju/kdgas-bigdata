{
 "cells": [
  {
   "cell_type": "code",
   "execution_count": 1,
   "id": "2d3011c5",
   "metadata": {},
   "outputs": [],
   "source": [
    "import pandas as pd"
   ]
  },
  {
   "cell_type": "code",
   "execution_count": 3,
   "id": "19ba7448",
   "metadata": {},
   "outputs": [],
   "source": [
    "HGU_JAN = pd.read_csv('KDG00038A_HousingGasUsage202201.csv')\n",
    "HGU_AUG = pd.read_csv('KDG00038A_HousingGasUsage202208.csv')"
   ]
  },
  {
   "cell_type": "code",
   "execution_count": 4,
   "id": "5450c7ff",
   "metadata": {},
   "outputs": [],
   "source": [
    "HCS_JAN = pd.read_csv('KDG00035A_HousingContractStatus202201.csv')\n",
    "HCS_AUG = pd.read_csv('KDG00035A_HousingContractStatus202208.csv')"
   ]
  },
  {
   "cell_type": "code",
   "execution_count": 10,
   "id": "5d2519e2",
   "metadata": {},
   "outputs": [],
   "source": [
    "HNP_Q1 = pd.read_csv('KDG00056A_HousingNonPaymentQ1.csv')"
   ]
  },
  {
   "cell_type": "code",
   "execution_count": 13,
   "id": "eb23a4fa",
   "metadata": {},
   "outputs": [],
   "source": [
    "HNP_Q1['NonPayment'] = 1"
   ]
  },
  {
   "cell_type": "code",
   "execution_count": 14,
   "id": "ba28db6c",
   "metadata": {},
   "outputs": [
    {
     "data": {
      "text/plain": [
       "Index(['STD_YM', 'END_DT', 'GM_VOL', 'AREA_NM', 'CTGG_NM', 'EMD_NM',\n",
       "       'DTL_ADDR', 'HMNO_LTNO', 'HSNO_LTNO', 'RD_NM', 'RDNM_ADDR', 'BLD_HMNO',\n",
       "       'BLD_HSNO', 'BLD_NM', 'DNGNM', 'NORM_NM', 'BZRNO', 'CMPNM_NM',\n",
       "       'BIZ_TY_CD', 'PLCB_ADDR', 'EMPR_SN', 'GAS_TYPE', 'HSHD_NO',\n",
       "       'HSHD_TYPE_CD', 'HSHD_TYPE_NM', 'CNTR_TYPE_CD', 'CNTR_TYPE_NM',\n",
       "       'WRT_DATE', 'NonPayment'],\n",
       "      dtype='object')"
      ]
     },
     "execution_count": 14,
     "metadata": {},
     "output_type": "execute_result"
    }
   ],
   "source": [
    "HNP_Q1.columns"
   ]
  },
  {
   "cell_type": "code",
   "execution_count": 16,
   "id": "6c7ed56a",
   "metadata": {},
   "outputs": [],
   "source": [
    "HNP_Q1 = HNP_Q1[['EMPR_SN', 'NonPayment']]"
   ]
  },
  {
   "cell_type": "code",
   "execution_count": 18,
   "id": "a0ba119b",
   "metadata": {},
   "outputs": [],
   "source": [
    "df = pd.merge(HGU_JAN, HNP_Q1, how='left', on='EMPR_SN')"
   ]
  },
  {
   "cell_type": "code",
   "execution_count": 39,
   "id": "16b38968",
   "metadata": {},
   "outputs": [],
   "source": [
    "df = df.fillna(0)"
   ]
  },
  {
   "cell_type": "code",
   "execution_count": 21,
   "id": "76ef40d1",
   "metadata": {},
   "outputs": [],
   "source": [
    "df = pd.merge(df, HCS_JAN, on='EMPR_SN')"
   ]
  },
  {
   "cell_type": "code",
   "execution_count": 27,
   "id": "9380d43f",
   "metadata": {},
   "outputs": [
    {
     "data": {
      "text/plain": [
       "Index(['NO', 'EMPR_SN', 'HSHD_NO_x', 'HSHD_TYPE_CD_x', 'HSHD_TYPE_NM_x',\n",
       "       'AREA_NM', 'CTGG_NM', 'EMD_NM', 'DTL_ADDR', 'HMNO_LTNO', 'USEAMT',\n",
       "       'WRT_DATE_x', 'NonPayment', 'STD_YM', 'CNTR_DT', 'END_DT', 'HSHD_NO_y',\n",
       "       'HSHD_TYPE_CD_y', 'HSHD_TYPE_NM_y', 'CNTR_TYPE_CD', 'CNTR_TYPE_NM',\n",
       "       'GM_VOL', 'GAS_TYPE', 'PROS_SP_CD', 'WRT_DATE_y'],\n",
       "      dtype='object')"
      ]
     },
     "execution_count": 27,
     "metadata": {},
     "output_type": "execute_result"
    }
   ],
   "source": [
    "df.columns"
   ]
  },
  {
   "cell_type": "code",
   "execution_count": 29,
   "id": "a373da01",
   "metadata": {},
   "outputs": [
    {
     "data": {
      "text/plain": [
       "a2RnYXNzZnRwaXYFBQUFBcj0U3gMyRkjFlMLEtlG3qxdfkyyalxfAjA6+fNQkBRm    1367\n",
       "a2RnYXNzZnRwaXYFBQUFBS09r2gG4oxKcbV/tpjKMQbQ/3CeP9cQcQEEjNbPxk/s     839\n",
       "a2RnYXNzZnRwaXYFBQUFBeodPb+Gsc1pov71ykvDRBexFiRxEEkSCgdtLT6m2lM9     741\n",
       "a2RnYXNzZnRwaXYFBQUFBV0wRAzi/Lh2LB1lDQr5xHfHYibf500/vz9FI5dQxnRX     736\n",
       "a2RnYXNzZnRwaXYFBQUFBbfJdmbzK/QXfYvEIcv8/w4UO6zCNQlaati0IFgW1uRA     636\n",
       "                                                                    ... \n",
       "a2RnYXNzZnRwaXYFBQUFBblcoDeMIhOaKvKj143dUZxXjtq3uCGAo9OBV746iPW6       1\n",
       "a2RnYXNzZnRwaXYFBQUFBW3PRuQVqYORXGNa1nCqOIDKhWZLNZBy2dZDPyYp/ymw       1\n",
       "a2RnYXNzZnRwaXYFBQUFBZV+Psbr5VonT89FQT8xwekd58MLbl6RLwtZREv3fwCO       1\n",
       "a2RnYXNzZnRwaXYFBQUFBU0kcmcchoe8NgNRqrO8Vb0P9JZk40RzXc+z3I4NKbCo       1\n",
       "a2RnYXNzZnRwaXYFBQUFBQZvviIKU1iEa+qBvwXKmh05k/zpdmAYe94Fb+uFC0Cc       1\n",
       "Name: CNTR_DT, Length: 11434, dtype: int64"
      ]
     },
     "execution_count": 29,
     "metadata": {},
     "output_type": "execute_result"
    }
   ],
   "source": [
    "df.CNTR_DT.value_counts()"
   ]
  },
  {
   "cell_type": "code",
   "execution_count": 30,
   "id": "d9f2e944",
   "metadata": {},
   "outputs": [
    {
     "data": {
      "text/plain": [
       "0.0    508731\n",
       "1.0    151480\n",
       "Name: NonPayment, dtype: int64"
      ]
     },
     "execution_count": 30,
     "metadata": {},
     "output_type": "execute_result"
    }
   ],
   "source": [
    "df.NonPayment.value_counts()"
   ]
  },
  {
   "cell_type": "code",
   "execution_count": 34,
   "id": "c30bbb21",
   "metadata": {},
   "outputs": [
    {
     "data": {
      "text/plain": [
       "0       21854\n",
       "100     14439\n",
       "3        8924\n",
       "2        8618\n",
       "4        8591\n",
       "        ...  \n",
       "891         1\n",
       "696         1\n",
       "893         1\n",
       "1058        1\n",
       "1131        1\n",
       "Name: USEAMT, Length: 829, dtype: int64"
      ]
     },
     "execution_count": 34,
     "metadata": {},
     "output_type": "execute_result"
    }
   ],
   "source": [
    "df.USEAMT.value_counts()"
   ]
  },
  {
   "cell_type": "code",
   "execution_count": 35,
   "id": "61966bbf",
   "metadata": {},
   "outputs": [
    {
     "data": {
      "text/plain": [
       "4.0       579080\n",
       "2.0        42713\n",
       "6.0        36188\n",
       "10.0        1471\n",
       "16.0         430\n",
       "25.0         110\n",
       "3.0          108\n",
       "40.0          35\n",
       "65.0          15\n",
       "100.0         15\n",
       "250.0         10\n",
       "160.0          7\n",
       "400.0          5\n",
       "1000.0         2\n",
       "650.0          2\n",
       "5.0            1\n",
       "Name: GM_VOL, dtype: int64"
      ]
     },
     "execution_count": 35,
     "metadata": {},
     "output_type": "execute_result"
    }
   ],
   "source": [
    "df.GM_VOL.value_counts()"
   ]
  },
  {
   "cell_type": "markdown",
   "id": "3a1e47ae",
   "metadata": {},
   "source": [
    "##### 데이터 구분"
   ]
  },
  {
   "cell_type": "code",
   "execution_count": 127,
   "id": "df9a25a7",
   "metadata": {},
   "outputs": [],
   "source": [
    "import seaborn as sns"
   ]
  },
  {
   "cell_type": "code",
   "execution_count": 84,
   "id": "85b59a18",
   "metadata": {},
   "outputs": [
    {
     "data": {
      "text/plain": [
       "연립/아파트(공동주택)    421621\n",
       "단독주택            102251\n",
       "다가구주택(원룸)        98581\n",
       "다세대주택(빌라)        37758\n",
       "Name: HSHD_TYPE_NM_x, dtype: int64"
      ]
     },
     "execution_count": 84,
     "metadata": {},
     "output_type": "execute_result"
    }
   ],
   "source": [
    "df['HSHD_TYPE_NM_x'].value_counts()"
   ]
  },
  {
   "cell_type": "code",
   "execution_count": 85,
   "id": "a2d71544",
   "metadata": {},
   "outputs": [],
   "source": [
    "df_apt = df[df['HSHD_TYPE_NM_x'] == '연립/아파트(공동주택)']\n",
    "df_dandok = df[df['HSHD_TYPE_NM_x'] == '단독주택']\n",
    "df_dagagu = df[df['HSHD_TYPE_NM_x'] == '다가구주택(원룸)']\n",
    "df_dasede = df[df['HSHD_TYPE_NM_x'] == '다세대주택(빌라)']"
   ]
  },
  {
   "cell_type": "code",
   "execution_count": 128,
   "id": "c4fe1d9a",
   "metadata": {},
   "outputs": [
    {
     "data": {
      "text/plain": [
       "<AxesSubplot:xlabel='USEAMT', ylabel='Density'>"
      ]
     },
     "execution_count": 128,
     "metadata": {},
     "output_type": "execute_result"
    },
    {
     "data": {
      "image/png": "[encoded data removed]",
      "text/plain": [
       "<Figure size 432x288 with 1 Axes>"
      ]
     },
     "metadata": {
      "needs_background": "light"
     },
     "output_type": "display_data"
    }
   ],
   "source": [
    "sns.kdeplot(df_apt.USEAMT)"
   ]
  },
  {
   "cell_type": "code",
   "execution_count": 129,
   "id": "4d52137f",
   "metadata": {},
   "outputs": [],
   "source": [
    "def remove_out(dataframe, remove_col):\n",
    "    dff = dataframe\n",
    "    for k in remove_col:\n",
    "        level_1q = dff[k].quantile(0.25)\n",
    "        level_3q = dff[k].quantile(0.75)\n",
    "        IQR = level_3q - level_1q\n",
    "        rev_range = 3\n",
    "        dff = dff[(dff[k] <= level_3q + (rev_range*IQR)) & (dff[k] >= level_1q - (rev_range*IQR))]\n",
    "        dff = dff.reset_index(drop=True)\n",
    "    return dff"
   ]
  },
  {
   "cell_type": "code",
   "execution_count": 136,
   "id": "2cb33e6b",
   "metadata": {},
   "outputs": [],
   "source": [
    "df_apt = remove_out(df_apt, ['USEAMT'])\n",
    "df_dandok = remove_out(df_dandok, ['USEAMT'])\n",
    "df_dagagu = remove_out(df_dagagu, ['USEAMT'])\n",
    "df_dasede = remove_out(df_dasede, ['USEAMT'])"
   ]
  },
  {
   "cell_type": "code",
   "execution_count": 163,
   "id": "62275dfe",
   "metadata": {},
   "outputs": [
    {
     "data": {
      "text/plain": [
       "<AxesSubplot:xlabel='USEAMT', ylabel='Density'>"
      ]
     },
     "execution_count": 163,
     "metadata": {},
     "output_type": "execute_result"
    },
    {
     "data": {
      "image/png": "[encoded data removed]",
      "text/plain": [
       "<Figure size 432x288 with 1 Axes>"
      ]
     },
     "metadata": {
      "needs_background": "light"
     },
     "output_type": "display_data"
    }
   ],
   "source": [
    "sns.kdeplot(df_apt.USEAMT)"
   ]
  },
  {
   "cell_type": "code",
   "execution_count": 158,
   "id": "4e23b464",
   "metadata": {},
   "outputs": [
    {
     "data": {
      "text/plain": [
       "<AxesSubplot:xlabel='USEAMT', ylabel='Density'>"
      ]
     },
     "execution_count": 158,
     "metadata": {},
     "output_type": "execute_result"
    },
    {
     "data": {
      "image/png": "[encoded data removed]",
      "text/plain": [
       "<Figure size 432x288 with 1 Axes>"
      ]
     },
     "metadata": {
      "needs_background": "light"
     },
     "output_type": "display_data"
    }
   ],
   "source": [
    "sns.kdeplot(df_dandok.USEAMT)"
   ]
  },
  {
   "cell_type": "code",
   "execution_count": 157,
   "id": "9f5b7a6b",
   "metadata": {},
   "outputs": [
    {
     "data": {
      "text/plain": [
       "<AxesSubplot:xlabel='USEAMT', ylabel='Density'>"
      ]
     },
     "execution_count": 157,
     "metadata": {},
     "output_type": "execute_result"
    },
    {
     "data": {
      "image/png": "[encoded data removed]",
      "text/plain": [
       "<Figure size 432x288 with 1 Axes>"
      ]
     },
     "metadata": {
      "needs_background": "light"
     },
     "output_type": "display_data"
    }
   ],
   "source": [
    "sns.kdeplot(df_dagagu.USEAMT)"
   ]
  },
  {
   "cell_type": "code",
   "execution_count": 162,
   "id": "434e68fb",
   "metadata": {},
   "outputs": [
    {
     "data": {
      "text/plain": [
       "<AxesSubplot:xlabel='USEAMT', ylabel='Density'>"
      ]
     },
     "execution_count": 162,
     "metadata": {},
     "output_type": "execute_result"
    },
    {
     "data": {
      "image/png": "[encoded data removed]",
      "text/plain": [
       "<Figure size 432x288 with 1 Axes>"
      ]
     },
     "metadata": {
      "needs_background": "light"
     },
     "output_type": "display_data"
    }
   ],
   "source": [
    "sns.kdeplot(df_dasede.USEAMT)"
   ]
  },
  {
   "cell_type": "code",
   "execution_count": 193,
   "id": "9e770ed1",
   "metadata": {},
   "outputs": [
    {
     "data": {
      "text/plain": [
       "4.0      346149\n",
       "2.0       42584\n",
       "6.0       31740\n",
       "10.0        196\n",
       "3.0          60\n",
       "16.0         41\n",
       "25.0         23\n",
       "0.0          13\n",
       "40.0          6\n",
       "65.0          5\n",
       "250.0         3\n",
       "100.0         3\n",
       "Name: GM_VOL, dtype: int64"
      ]
     },
     "execution_count": 193,
     "metadata": {},
     "output_type": "execute_result"
    }
   ],
   "source": [
    "df_apt.GM_VOL.value_counts()"
   ]
  },
  {
   "cell_type": "code",
   "execution_count": 192,
   "id": "50d0f65c",
   "metadata": {},
   "outputs": [
    {
     "data": {
      "text/plain": [
       "<AxesSubplot:xlabel='GM_VOL', ylabel='Count'>"
      ]
     },
     "execution_count": 192,
     "metadata": {},
     "output_type": "execute_result"
    },
    {
     "data": {
      "image/png": "[encoded data removed]",
      "text/plain": [
       "<Figure size 432x288 with 1 Axes>"
      ]
     },
     "metadata": {
      "needs_background": "light"
     },
     "output_type": "display_data"
    }
   ],
   "source": [
    "sns.histplot(df_apt.GM_VOL)"
   ]
  },
  {
   "cell_type": "code",
   "execution_count": 159,
   "id": "097f0448",
   "metadata": {},
   "outputs": [
    {
     "data": {
      "text/plain": [
       "101986"
      ]
     },
     "execution_count": 159,
     "metadata": {},
     "output_type": "execute_result"
    }
   ],
   "source": [
    "len(df_dandok)"
   ]
  },
  {
   "cell_type": "code",
   "execution_count": 160,
   "id": "b980a45b",
   "metadata": {},
   "outputs": [
    {
     "data": {
      "text/plain": [
       "420823"
      ]
     },
     "execution_count": 160,
     "metadata": {},
     "output_type": "execute_result"
    }
   ],
   "source": [
    "len(df_apt)"
   ]
  },
  {
   "cell_type": "markdown",
   "id": "354afb0f",
   "metadata": {},
   "source": [
    "##### 클러스터링 분석 진행"
   ]
  },
  {
   "cell_type": "code",
   "execution_count": 138,
   "id": "7a927a9e",
   "metadata": {},
   "outputs": [],
   "source": [
    "from sklearn.pipeline import make_pipeline\n",
    "from sklearn.preprocessing import MinMaxScaler\n",
    "from sklearn.cluster import KMeans\n",
    "\n",
    "%matplotlib inline\n",
    "import matplotlib as mpl\n",
    "import matplotlib.pyplot as plt"
   ]
  },
  {
   "cell_type": "markdown",
   "id": "496ca9b1",
   "metadata": {},
   "source": [
    "##### 연립/아파트"
   ]
  },
  {
   "cell_type": "code",
   "execution_count": 139,
   "id": "e3e31452",
   "metadata": {},
   "outputs": [],
   "source": [
    "cluster_data = df_apt[['GM_VOL', 'USEAMT']]"
   ]
  },
  {
   "cell_type": "code",
   "execution_count": 140,
   "id": "e3dd509b",
   "metadata": {},
   "outputs": [],
   "source": [
    "scaler = MinMaxScaler()"
   ]
  },
  {
   "cell_type": "code",
   "execution_count": 141,
   "id": "98f7c546",
   "metadata": {},
   "outputs": [
    {
     "name": "stderr",
     "output_type": "stream",
     "text": [
      "<ipython-input-141-c56a88615987>:1: SettingWithCopyWarning: \n",
      "A value is trying to be set on a copy of a slice from a DataFrame.\n",
      "Try using .loc[row_indexer,col_indexer] = value instead\n",
      "\n",
      "See the caveats in the documentation: https://pandas.pydata.org/pandas-docs/stable/user_guide/indexing.html#returning-a-view-versus-a-copy\n",
      "  cluster_data[['GM_VOL']] = scaler.fit_transform(cluster_data[['GM_VOL']])\n",
      "/opt/conda/lib/python3.8/site-packages/pandas/core/indexing.py:1738: SettingWithCopyWarning: \n",
      "A value is trying to be set on a copy of a slice from a DataFrame.\n",
      "Try using .loc[row_indexer,col_indexer] = value instead\n",
      "\n",
      "See the caveats in the documentation: https://pandas.pydata.org/pandas-docs/stable/user_guide/indexing.html#returning-a-view-versus-a-copy\n",
      "  self._setitem_single_column(loc, value[:, i].tolist(), pi)\n"
     ]
    }
   ],
   "source": [
    "cluster_data[['GM_VOL']] = scaler.fit_transform(cluster_data[['GM_VOL']])"
   ]
  },
  {
   "cell_type": "code",
   "execution_count": 142,
   "id": "7ab635a2",
   "metadata": {},
   "outputs": [
    {
     "name": "stderr",
     "output_type": "stream",
     "text": [
      "<ipython-input-142-f360dbe76f2a>:1: SettingWithCopyWarning: \n",
      "A value is trying to be set on a copy of a slice from a DataFrame.\n",
      "Try using .loc[row_indexer,col_indexer] = value instead\n",
      "\n",
      "See the caveats in the documentation: https://pandas.pydata.org/pandas-docs/stable/user_guide/indexing.html#returning-a-view-versus-a-copy\n",
      "  cluster_data[['USEAMT']] = scaler.fit_transform(cluster_data[['USEAMT']])\n",
      "/opt/conda/lib/python3.8/site-packages/pandas/core/indexing.py:1738: SettingWithCopyWarning: \n",
      "A value is trying to be set on a copy of a slice from a DataFrame.\n",
      "Try using .loc[row_indexer,col_indexer] = value instead\n",
      "\n",
      "See the caveats in the documentation: https://pandas.pydata.org/pandas-docs/stable/user_guide/indexing.html#returning-a-view-versus-a-copy\n",
      "  self._setitem_single_column(loc, value[:, i].tolist(), pi)\n"
     ]
    }
   ],
   "source": [
    "cluster_data[['USEAMT']] = scaler.fit_transform(cluster_data[['USEAMT']])"
   ]
  },
  {
   "cell_type": "code",
   "execution_count": 144,
   "id": "cc9b153c",
   "metadata": {},
   "outputs": [],
   "source": [
    "kmeans_per_k = [KMeans(n_clusters=k, random_state=42).fit(cluster_data) for k in range(1, 10)]"
   ]
  },
  {
   "cell_type": "code",
   "execution_count": 145,
   "id": "810a4fd2",
   "metadata": {},
   "outputs": [],
   "source": [
    "inertias = [model.inertia_ for model in kmeans_per_k]"
   ]
  },
  {
   "cell_type": "code",
   "execution_count": 148,
   "id": "500ffb73",
   "metadata": {},
   "outputs": [
    {
     "data": {
      "image/png": "[encoded data removed]",
      "text/plain": [
       "<Figure size 576x252 with 1 Axes>"
      ]
     },
     "metadata": {
      "needs_background": "light"
     },
     "output_type": "display_data"
    }
   ],
   "source": [
    "plt.figure(figsize=(8, 3.5))\n",
    "plt.plot(range(1, 10), inertias, \"bo-\") # 이부분이 중요. x축은 range(1, 10): 총 9번이니까, 위에서 k 반복문 그대로 들어가기\n",
    "\n",
    "plt.xlabel(\"$k$\", fontsize=14)\n",
    "plt.ylabel(\"Inertia\", fontsize=14)\n",
    "\n",
    "plt.annotate('Elbow',\n",
    "             xy=(3, inertias[2]),\n",
    "             xytext=(0.55, 0.55),\n",
    "             textcoords='figure fraction',\n",
    "             fontsize=16,\n",
    "             arrowprops=dict(facecolor='black', shrink=0.1)\n",
    "            )\n",
    "plt.axis([1, 8.5, 0, 10000])\n",
    "plt.show()"
   ]
  },
  {
   "cell_type": "code",
   "execution_count": 149,
   "id": "4341146c",
   "metadata": {},
   "outputs": [],
   "source": [
    "apt_kmeans = KMeans(n_clusters=3)"
   ]
  },
  {
   "cell_type": "code",
   "execution_count": 150,
   "id": "35a16854",
   "metadata": {},
   "outputs": [],
   "source": [
    "apt_clusters = apt_kmeans.fit_predict(cluster_data)"
   ]
  },
  {
   "cell_type": "code",
   "execution_count": 151,
   "id": "cd54ecf9",
   "metadata": {},
   "outputs": [],
   "source": [
    "df_apt['cluster'] = apt_clusters"
   ]
  },
  {
   "cell_type": "code",
   "execution_count": 164,
   "id": "458255b7",
   "metadata": {},
   "outputs": [
    {
     "data": {
      "text/plain": [
       "0    182048\n",
       "2    174345\n",
       "1     64430\n",
       "Name: cluster, dtype: int64"
      ]
     },
     "execution_count": 164,
     "metadata": {},
     "output_type": "execute_result"
    }
   ],
   "source": [
    "df_apt['cluster'].value_counts()"
   ]
  },
  {
   "cell_type": "code",
   "execution_count": 155,
   "id": "00497948",
   "metadata": {},
   "outputs": [
    {
     "data": {
      "text/plain": [
       "Index(['NO', 'EMPR_SN', 'HSHD_NO_x', 'HSHD_TYPE_CD_x', 'HSHD_TYPE_NM_x',\n",
       "       'AREA_NM', 'CTGG_NM', 'EMD_NM', 'DTL_ADDR', 'HMNO_LTNO', 'USEAMT',\n",
       "       'WRT_DATE_x', 'NonPayment', 'STD_YM', 'CNTR_DT', 'END_DT', 'HSHD_NO_y',\n",
       "       'HSHD_TYPE_CD_y', 'HSHD_TYPE_NM_y', 'CNTR_TYPE_CD', 'CNTR_TYPE_NM',\n",
       "       'GM_VOL', 'GAS_TYPE', 'PROS_SP_CD', 'WRT_DATE_y', 'cluster'],\n",
       "      dtype='object')"
      ]
     },
     "execution_count": 155,
     "metadata": {},
     "output_type": "execute_result"
    }
   ],
   "source": [
    "df_apt.columns"
   ]
  },
  {
   "cell_type": "code",
   "execution_count": 153,
   "id": "fd41bc2c",
   "metadata": {},
   "outputs": [],
   "source": [
    "df_apt.to_excel('df_apt.xlsx')"
   ]
  },
  {
   "cell_type": "markdown",
   "id": "53355092",
   "metadata": {},
   "source": [
    "##### 단독주택"
   ]
  },
  {
   "cell_type": "code",
   "execution_count": 165,
   "id": "f5a23aa2",
   "metadata": {},
   "outputs": [
    {
     "name": "stderr",
     "output_type": "stream",
     "text": [
      "<ipython-input-165-f5f677efd15f>:5: SettingWithCopyWarning: \n",
      "A value is trying to be set on a copy of a slice from a DataFrame.\n",
      "Try using .loc[row_indexer,col_indexer] = value instead\n",
      "\n",
      "See the caveats in the documentation: https://pandas.pydata.org/pandas-docs/stable/user_guide/indexing.html#returning-a-view-versus-a-copy\n",
      "  cluster_data[['GM_VOL']] = scaler.fit_transform(cluster_data[['GM_VOL']])\n",
      "/opt/conda/lib/python3.8/site-packages/pandas/core/indexing.py:1738: SettingWithCopyWarning: \n",
      "A value is trying to be set on a copy of a slice from a DataFrame.\n",
      "Try using .loc[row_indexer,col_indexer] = value instead\n",
      "\n",
      "See the caveats in the documentation: https://pandas.pydata.org/pandas-docs/stable/user_guide/indexing.html#returning-a-view-versus-a-copy\n",
      "  self._setitem_single_column(loc, value[:, i].tolist(), pi)\n",
      "<ipython-input-165-f5f677efd15f>:6: SettingWithCopyWarning: \n",
      "A value is trying to be set on a copy of a slice from a DataFrame.\n",
      "Try using .loc[row_indexer,col_indexer] = value instead\n",
      "\n",
      "See the caveats in the documentation: https://pandas.pydata.org/pandas-docs/stable/user_guide/indexing.html#returning-a-view-versus-a-copy\n",
      "  cluster_data[['USEAMT']] = scaler.fit_transform(cluster_data[['USEAMT']])\n",
      "/opt/conda/lib/python3.8/site-packages/pandas/core/indexing.py:1738: SettingWithCopyWarning: \n",
      "A value is trying to be set on a copy of a slice from a DataFrame.\n",
      "Try using .loc[row_indexer,col_indexer] = value instead\n",
      "\n",
      "See the caveats in the documentation: https://pandas.pydata.org/pandas-docs/stable/user_guide/indexing.html#returning-a-view-versus-a-copy\n",
      "  self._setitem_single_column(loc, value[:, i].tolist(), pi)\n"
     ]
    }
   ],
   "source": [
    "cluster_data = df_dandok[['GM_VOL', 'USEAMT']]\n",
    "\n",
    "scaler = MinMaxScaler()\n",
    "\n",
    "cluster_data[['GM_VOL']] = scaler.fit_transform(cluster_data[['GM_VOL']])\n",
    "cluster_data[['USEAMT']] = scaler.fit_transform(cluster_data[['USEAMT']])"
   ]
  },
  {
   "cell_type": "code",
   "execution_count": 166,
   "id": "243f1a29",
   "metadata": {},
   "outputs": [],
   "source": [
    "kmeans_per_k = [KMeans(n_clusters=k, random_state=42).fit(cluster_data) for k in range(1, 10)]\n",
    "inertias = [model.inertia_ for model in kmeans_per_k]"
   ]
  },
  {
   "cell_type": "code",
   "execution_count": 169,
   "id": "a7840e3e",
   "metadata": {},
   "outputs": [
    {
     "data": {
      "image/png": "[encoded data removed]",
      "text/plain": [
       "<Figure size 576x252 with 1 Axes>"
      ]
     },
     "metadata": {
      "needs_background": "light"
     },
     "output_type": "display_data"
    }
   ],
   "source": [
    "plt.figure(figsize=(8, 3.5))\n",
    "plt.plot(range(1, 10), inertias, \"bo-\") # 이부분이 중요. x축은 range(1, 10): 총 9번이니까, 위에서 k 반복문 그대로 들어가기\n",
    "\n",
    "plt.xlabel(\"$k$\", fontsize=14)\n",
    "plt.ylabel(\"Inertia\", fontsize=14)\n",
    "\n",
    "plt.annotate('Elbow',\n",
    "             xy=(3, inertias[2]),\n",
    "             xytext=(0.55, 0.55),\n",
    "             textcoords='figure fraction',\n",
    "             fontsize=16,\n",
    "             arrowprops=dict(facecolor='black', shrink=0.1)\n",
    "            )\n",
    "plt.axis([1, 8.5, 0, 3000])\n",
    "plt.show()"
   ]
  },
  {
   "cell_type": "code",
   "execution_count": 170,
   "id": "48cf6f91",
   "metadata": {},
   "outputs": [],
   "source": [
    "dandok_kmeans = KMeans(n_clusters=3)\n",
    "dandok_clusters = dandok_kmeans.fit_predict(cluster_data)"
   ]
  },
  {
   "cell_type": "code",
   "execution_count": 171,
   "id": "04760dee",
   "metadata": {},
   "outputs": [],
   "source": [
    "df_dandok['cluster'] = dandok_clusters"
   ]
  },
  {
   "cell_type": "code",
   "execution_count": 172,
   "id": "cdfc1273",
   "metadata": {},
   "outputs": [
    {
     "data": {
      "text/plain": [
       "0    47614\n",
       "1    39400\n",
       "2    14972\n",
       "Name: cluster, dtype: int64"
      ]
     },
     "execution_count": 172,
     "metadata": {},
     "output_type": "execute_result"
    }
   ],
   "source": [
    "df_dandok['cluster'].value_counts()"
   ]
  },
  {
   "cell_type": "code",
   "execution_count": 173,
   "id": "8c51ee41",
   "metadata": {},
   "outputs": [],
   "source": [
    "df_dandok.to_excel('df_dandok.xlsx')"
   ]
  },
  {
   "cell_type": "markdown",
   "id": "cafe3df3",
   "metadata": {},
   "source": [
    "##### 다가구주택"
   ]
  },
  {
   "cell_type": "code",
   "execution_count": 174,
   "id": "f0c67259",
   "metadata": {},
   "outputs": [
    {
     "name": "stderr",
     "output_type": "stream",
     "text": [
      "<ipython-input-174-e007f0153714>:5: SettingWithCopyWarning: \n",
      "A value is trying to be set on a copy of a slice from a DataFrame.\n",
      "Try using .loc[row_indexer,col_indexer] = value instead\n",
      "\n",
      "See the caveats in the documentation: https://pandas.pydata.org/pandas-docs/stable/user_guide/indexing.html#returning-a-view-versus-a-copy\n",
      "  cluster_data[['GM_VOL']] = scaler.fit_transform(cluster_data[['GM_VOL']])\n",
      "/opt/conda/lib/python3.8/site-packages/pandas/core/indexing.py:1738: SettingWithCopyWarning: \n",
      "A value is trying to be set on a copy of a slice from a DataFrame.\n",
      "Try using .loc[row_indexer,col_indexer] = value instead\n",
      "\n",
      "See the caveats in the documentation: https://pandas.pydata.org/pandas-docs/stable/user_guide/indexing.html#returning-a-view-versus-a-copy\n",
      "  self._setitem_single_column(loc, value[:, i].tolist(), pi)\n",
      "<ipython-input-174-e007f0153714>:6: SettingWithCopyWarning: \n",
      "A value is trying to be set on a copy of a slice from a DataFrame.\n",
      "Try using .loc[row_indexer,col_indexer] = value instead\n",
      "\n",
      "See the caveats in the documentation: https://pandas.pydata.org/pandas-docs/stable/user_guide/indexing.html#returning-a-view-versus-a-copy\n",
      "  cluster_data[['USEAMT']] = scaler.fit_transform(cluster_data[['USEAMT']])\n",
      "/opt/conda/lib/python3.8/site-packages/pandas/core/indexing.py:1738: SettingWithCopyWarning: \n",
      "A value is trying to be set on a copy of a slice from a DataFrame.\n",
      "Try using .loc[row_indexer,col_indexer] = value instead\n",
      "\n",
      "See the caveats in the documentation: https://pandas.pydata.org/pandas-docs/stable/user_guide/indexing.html#returning-a-view-versus-a-copy\n",
      "  self._setitem_single_column(loc, value[:, i].tolist(), pi)\n"
     ]
    }
   ],
   "source": [
    "cluster_data = df_dagagu[['GM_VOL', 'USEAMT']]\n",
    "\n",
    "scaler = MinMaxScaler()\n",
    "\n",
    "cluster_data[['GM_VOL']] = scaler.fit_transform(cluster_data[['GM_VOL']])\n",
    "cluster_data[['USEAMT']] = scaler.fit_transform(cluster_data[['USEAMT']])"
   ]
  },
  {
   "cell_type": "code",
   "execution_count": 175,
   "id": "8ff6c409",
   "metadata": {},
   "outputs": [],
   "source": [
    "kmeans_per_k = [KMeans(n_clusters=k, random_state=42).fit(cluster_data) for k in range(1, 10)]\n",
    "inertias = [model.inertia_ for model in kmeans_per_k]"
   ]
  },
  {
   "cell_type": "code",
   "execution_count": 176,
   "id": "5249eeba",
   "metadata": {},
   "outputs": [
    {
     "data": {
      "text/plain": [
       "[3143.6963569826326,\n",
       " 1157.8691499708746,\n",
       " 559.3995428423136,\n",
       " 326.589897524864,\n",
       " 213.96970450219436,\n",
       " 152.15182557107187,\n",
       " 114.0915510372827,\n",
       " 89.04385498979288,\n",
       " 72.51986073237289]"
      ]
     },
     "execution_count": 176,
     "metadata": {},
     "output_type": "execute_result"
    }
   ],
   "source": [
    "inertias"
   ]
  },
  {
   "cell_type": "code",
   "execution_count": 178,
   "id": "519a6036",
   "metadata": {},
   "outputs": [
    {
     "data": {
      "image/png": "[encoded data removed]",
      "text/plain": [
       "<Figure size 576x252 with 1 Axes>"
      ]
     },
     "metadata": {
      "needs_background": "light"
     },
     "output_type": "display_data"
    }
   ],
   "source": [
    "plt.figure(figsize=(8, 3.5))\n",
    "plt.plot(range(1, 10), inertias, \"bo-\") # 이부분이 중요. x축은 range(1, 10): 총 9번이니까, 위에서 k 반복문 그대로 들어가기\n",
    "\n",
    "plt.xlabel(\"$k$\", fontsize=14)\n",
    "plt.ylabel(\"Inertia\", fontsize=14)\n",
    "\n",
    "plt.annotate('Elbow',\n",
    "             xy=(3, inertias[2]),\n",
    "             xytext=(0.55, 0.55),\n",
    "             textcoords='figure fraction',\n",
    "             fontsize=16,\n",
    "             arrowprops=dict(facecolor='black', shrink=0.1)\n",
    "            )\n",
    "plt.axis([1, 8.5, 0, 3500])\n",
    "plt.show()"
   ]
  },
  {
   "cell_type": "code",
   "execution_count": 179,
   "id": "c38d447d",
   "metadata": {},
   "outputs": [],
   "source": [
    "dagagu_kmeans = KMeans(n_clusters=3)\n",
    "dagagu_clusters = dagagu_kmeans.fit_predict(cluster_data)"
   ]
  },
  {
   "cell_type": "code",
   "execution_count": 180,
   "id": "5ffaa007",
   "metadata": {},
   "outputs": [],
   "source": [
    "df_dagagu['cluster'] = dagagu_clusters"
   ]
  },
  {
   "cell_type": "code",
   "execution_count": 181,
   "id": "91488f2a",
   "metadata": {},
   "outputs": [
    {
     "data": {
      "text/plain": [
       "0    45346\n",
       "2    40940\n",
       "1    11650\n",
       "Name: cluster, dtype: int64"
      ]
     },
     "execution_count": 181,
     "metadata": {},
     "output_type": "execute_result"
    }
   ],
   "source": [
    "df_dagagu['cluster'].value_counts()"
   ]
  },
  {
   "cell_type": "code",
   "execution_count": 182,
   "id": "d4363b56",
   "metadata": {},
   "outputs": [],
   "source": [
    "df_dagagu.to_excel('df_dagagu.xlsx')"
   ]
  },
  {
   "cell_type": "markdown",
   "id": "f766fac1",
   "metadata": {},
   "source": [
    "##### 다세대 주택"
   ]
  },
  {
   "cell_type": "code",
   "execution_count": 183,
   "id": "9a23f30b",
   "metadata": {},
   "outputs": [
    {
     "name": "stderr",
     "output_type": "stream",
     "text": [
      "<ipython-input-183-c39264a17855>:5: SettingWithCopyWarning: \n",
      "A value is trying to be set on a copy of a slice from a DataFrame.\n",
      "Try using .loc[row_indexer,col_indexer] = value instead\n",
      "\n",
      "See the caveats in the documentation: https://pandas.pydata.org/pandas-docs/stable/user_guide/indexing.html#returning-a-view-versus-a-copy\n",
      "  cluster_data[['GM_VOL']] = scaler.fit_transform(cluster_data[['GM_VOL']])\n",
      "/opt/conda/lib/python3.8/site-packages/pandas/core/indexing.py:1738: SettingWithCopyWarning: \n",
      "A value is trying to be set on a copy of a slice from a DataFrame.\n",
      "Try using .loc[row_indexer,col_indexer] = value instead\n",
      "\n",
      "See the caveats in the documentation: https://pandas.pydata.org/pandas-docs/stable/user_guide/indexing.html#returning-a-view-versus-a-copy\n",
      "  self._setitem_single_column(loc, value[:, i].tolist(), pi)\n",
      "<ipython-input-183-c39264a17855>:6: SettingWithCopyWarning: \n",
      "A value is trying to be set on a copy of a slice from a DataFrame.\n",
      "Try using .loc[row_indexer,col_indexer] = value instead\n",
      "\n",
      "See the caveats in the documentation: https://pandas.pydata.org/pandas-docs/stable/user_guide/indexing.html#returning-a-view-versus-a-copy\n",
      "  cluster_data[['USEAMT']] = scaler.fit_transform(cluster_data[['USEAMT']])\n",
      "/opt/conda/lib/python3.8/site-packages/pandas/core/indexing.py:1738: SettingWithCopyWarning: \n",
      "A value is trying to be set on a copy of a slice from a DataFrame.\n",
      "Try using .loc[row_indexer,col_indexer] = value instead\n",
      "\n",
      "See the caveats in the documentation: https://pandas.pydata.org/pandas-docs/stable/user_guide/indexing.html#returning-a-view-versus-a-copy\n",
      "  self._setitem_single_column(loc, value[:, i].tolist(), pi)\n"
     ]
    }
   ],
   "source": [
    "cluster_data = df_dasede[['GM_VOL', 'USEAMT']]\n",
    "\n",
    "scaler = MinMaxScaler()\n",
    "\n",
    "cluster_data[['GM_VOL']] = scaler.fit_transform(cluster_data[['GM_VOL']])\n",
    "cluster_data[['USEAMT']] = scaler.fit_transform(cluster_data[['USEAMT']])"
   ]
  },
  {
   "cell_type": "code",
   "execution_count": 184,
   "id": "1f2321c8",
   "metadata": {},
   "outputs": [],
   "source": [
    "kmeans_per_k = [KMeans(n_clusters=k, random_state=42).fit(cluster_data) for k in range(1, 10)]\n",
    "inertias = [model.inertia_ for model in kmeans_per_k]"
   ]
  },
  {
   "cell_type": "code",
   "execution_count": 185,
   "id": "9118c8c3",
   "metadata": {},
   "outputs": [
    {
     "data": {
      "text/plain": [
       "[1024.9556542416271,\n",
       " 365.54169743035493,\n",
       " 186.07410916272715,\n",
       " 112.64211655936259,\n",
       " 78.9020632031653,\n",
       " 56.278978077233084,\n",
       " 43.5572905647413,\n",
       " 36.09692635332878,\n",
       " 29.659317335537988]"
      ]
     },
     "execution_count": 185,
     "metadata": {},
     "output_type": "execute_result"
    }
   ],
   "source": [
    "inertias"
   ]
  },
  {
   "cell_type": "code",
   "execution_count": 186,
   "id": "ffc7732b",
   "metadata": {},
   "outputs": [
    {
     "data": {
      "image/png": "[encoded data removed]",
      "text/plain": [
       "<Figure size 576x252 with 1 Axes>"
      ]
     },
     "metadata": {
      "needs_background": "light"
     },
     "output_type": "display_data"
    }
   ],
   "source": [
    "plt.figure(figsize=(8, 3.5))\n",
    "plt.plot(range(1, 10), inertias, \"bo-\") # 이부분이 중요. x축은 range(1, 10): 총 9번이니까, 위에서 k 반복문 그대로 들어가기\n",
    "\n",
    "plt.xlabel(\"$k$\", fontsize=14)\n",
    "plt.ylabel(\"Inertia\", fontsize=14)\n",
    "\n",
    "plt.annotate('Elbow',\n",
    "             xy=(3, inertias[2]),\n",
    "             xytext=(0.55, 0.55),\n",
    "             textcoords='figure fraction',\n",
    "             fontsize=16,\n",
    "             arrowprops=dict(facecolor='black', shrink=0.1)\n",
    "            )\n",
    "plt.axis([1, 8.5, 0, 1100])\n",
    "plt.show()"
   ]
  },
  {
   "cell_type": "code",
   "execution_count": 187,
   "id": "83b9330a",
   "metadata": {},
   "outputs": [],
   "source": [
    "dasede_kmeans = KMeans(n_clusters=3)\n",
    "dasede_clusters = dasede_kmeans.fit_predict(cluster_data)"
   ]
  },
  {
   "cell_type": "code",
   "execution_count": 189,
   "id": "ffae36c7",
   "metadata": {},
   "outputs": [],
   "source": [
    "df_dasede['cluster'] = dasede_clusters"
   ]
  },
  {
   "cell_type": "code",
   "execution_count": 190,
   "id": "49523e33",
   "metadata": {},
   "outputs": [
    {
     "data": {
      "text/plain": [
       "0    16398\n",
       "2    14701\n",
       "1     6606\n",
       "Name: cluster, dtype: int64"
      ]
     },
     "execution_count": 190,
     "metadata": {},
     "output_type": "execute_result"
    }
   ],
   "source": [
    "df_dasede['cluster'].value_counts()"
   ]
  },
  {
   "cell_type": "code",
   "execution_count": 191,
   "id": "f2e165cb",
   "metadata": {},
   "outputs": [],
   "source": [
    "df_dasede.to_excel('df_dasede.xlsx')"
   ]
  },
  {
   "cell_type": "code",
   "execution_count": 195,
   "id": "beaf9147",
   "metadata": {},
   "outputs": [
    {
     "name": "stdout",
     "output_type": "stream",
     "text": [
      "Collecting shap\n",
      "  Downloading shap-0.41.0-cp38-cp38-manylinux_2_12_x86_64.manylinux2010_x86_64.whl (575 kB)\n",
      "\u001b[K     |████████████████████████████████| 575 kB 6.7 MB/s eta 0:00:01\n",
      "\u001b[?25hRequirement already satisfied: scikit-learn in /opt/conda/lib/python3.8/site-packages (from shap) (1.1.3)\n",
      "Collecting slicer==0.0.7\n",
      "  Downloading slicer-0.0.7-py3-none-any.whl (14 kB)\n",
      "Requirement already satisfied: tqdm>4.25.0 in /opt/conda/lib/python3.8/site-packages (from shap) (4.60.0)\n",
      "Requirement already satisfied: pandas in /opt/conda/lib/python3.8/site-packages (from shap) (1.2.4)\n",
      "Requirement already satisfied: cloudpickle in /opt/conda/lib/python3.8/site-packages (from shap) (1.6.0)\n",
      "Requirement already satisfied: numpy in /opt/conda/lib/python3.8/site-packages (from shap) (1.20.1)\n",
      "Requirement already satisfied: packaging>20.9 in /opt/conda/lib/python3.8/site-packages (from shap) (21.3)\n",
      "Requirement already satisfied: scipy in /opt/conda/lib/python3.8/site-packages (from shap) (1.9.3)\n",
      "Requirement already satisfied: numba in /opt/conda/lib/python3.8/site-packages (from shap) (0.53.1)\n",
      "Requirement already satisfied: pyparsing!=3.0.5,>=2.0.2 in /opt/conda/lib/python3.8/site-packages (from packaging>20.9->shap) (2.4.7)\n",
      "Requirement already satisfied: llvmlite<0.37,>=0.36.0rc1 in /opt/conda/lib/python3.8/site-packages (from numba->shap) (0.36.0)\n",
      "Requirement already satisfied: setuptools in /opt/conda/lib/python3.8/site-packages (from numba->shap) (49.6.0.post20210108)\n",
      "Requirement already satisfied: python-dateutil>=2.7.3 in /opt/conda/lib/python3.8/site-packages (from pandas->shap) (2.8.2)\n",
      "Requirement already satisfied: pytz>=2017.3 in /opt/conda/lib/python3.8/site-packages (from pandas->shap) (2021.1)\n",
      "Requirement already satisfied: six>=1.5 in /opt/conda/lib/python3.8/site-packages (from python-dateutil>=2.7.3->pandas->shap) (1.15.0)\n",
      "Requirement already satisfied: threadpoolctl>=2.0.0 in /opt/conda/lib/python3.8/site-packages (from scikit-learn->shap) (2.1.0)\n",
      "Requirement already satisfied: joblib>=1.0.0 in /opt/conda/lib/python3.8/site-packages (from scikit-learn->shap) (1.0.1)\n",
      "Installing collected packages: slicer, shap\n",
      "Successfully installed shap-0.41.0 slicer-0.0.7\n"
     ]
    }
   ],
   "source": [
    "!pip install shap"
   ]
  },
  {
   "cell_type": "code",
   "execution_count": 196,
   "id": "8c1d1cfb",
   "metadata": {},
   "outputs": [],
   "source": [
    "import shap"
   ]
  },
  {
   "cell_type": "code",
   "execution_count": null,
   "id": "30ad8c5f",
   "metadata": {},
   "outputs": [],
   "source": []
  }
 ],
 "metadata": {
  "kernelspec": {
   "display_name": "Python 3",
   "language": "python",
   "name": "python3"
  },
  "language_info": {
   "codemirror_mode": {
    "name": "ipython",
    "version": 3
   },
   "file_extension": ".py",
   "mimetype": "text/x-python",
   "name": "python",
   "nbconvert_exporter": "python",
   "pygments_lexer": "ipython3",
   "version": "3.8.8"
  }
 },
 "nbformat": 4,
 "nbformat_minor": 5
}
